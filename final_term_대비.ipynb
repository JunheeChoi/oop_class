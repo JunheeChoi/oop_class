{
 "cells": [
  {
   "cell_type": "markdown",
   "source": [
    "# 2023 기말고사 대비\n",
    "\n",
    "## 2022 기말고사"
   ],
   "metadata": {
    "collapsed": false
   }
  },
  {
   "cell_type": "code",
   "execution_count": 2,
   "outputs": [],
   "source": [
    "# 1. '다형성(Polymorphism)'에 대한 가장 적절한 설명은 무엇인가?\n",
    "## 같은 부류의 객체이나 서로 다른 동작과 기능을 하는 것"
   ],
   "metadata": {
    "collapsed": false,
    "ExecuteTime": {
     "end_time": "2023-06-10T10:13:34.881151700Z",
     "start_time": "2023-06-10T10:13:34.869645500Z"
    }
   }
  },
  {
   "cell_type": "code",
   "execution_count": 3,
   "outputs": [
    {
     "ename": "ZeroDivisionError",
     "evalue": "division by zero",
     "output_type": "error",
     "traceback": [
      "\u001B[1;31m---------------------------------------------------------------------------\u001B[0m",
      "\u001B[1;31mZeroDivisionError\u001B[0m                         Traceback (most recent call last)",
      "Cell \u001B[1;32mIn[3], line 2\u001B[0m\n\u001B[0;32m      1\u001B[0m \u001B[38;5;66;03m# 2 예외가 발생하지 않는 것\u001B[39;00m\n\u001B[1;32m----> 2\u001B[0m \u001B[38;5;28mprint\u001B[39m(\u001B[38;5;241;43m4\u001B[39;49m\u001B[38;5;241;43m/\u001B[39;49m\u001B[38;5;241;43m0\u001B[39;49m)\n",
      "\u001B[1;31mZeroDivisionError\u001B[0m: division by zero"
     ]
    }
   ],
   "source": [
    "# 2 예외가 발생하지 않는 것\n",
    "print(4/0)"
   ],
   "metadata": {
    "collapsed": false,
    "ExecuteTime": {
     "end_time": "2023-06-10T10:15:14.266495700Z",
     "start_time": "2023-06-10T10:15:13.958314700Z"
    }
   }
  },
  {
   "cell_type": "code",
   "execution_count": 6,
   "outputs": [
    {
     "ename": "IndexError",
     "evalue": "list index out of range",
     "output_type": "error",
     "traceback": [
      "\u001B[1;31m---------------------------------------------------------------------------\u001B[0m",
      "\u001B[1;31mIndexError\u001B[0m                                Traceback (most recent call last)",
      "Cell \u001B[1;32mIn[6], line 2\u001B[0m\n\u001B[0;32m      1\u001B[0m lst \u001B[38;5;241m=\u001B[39m [\u001B[38;5;241m1\u001B[39m,\u001B[38;5;241m2\u001B[39m,\u001B[38;5;241m3\u001B[39m]\n\u001B[1;32m----> 2\u001B[0m \u001B[38;5;28mprint\u001B[39m(\u001B[43mlst\u001B[49m\u001B[43m[\u001B[49m\u001B[38;5;241;43m3\u001B[39;49m\u001B[43m]\u001B[49m)\n",
      "\u001B[1;31mIndexError\u001B[0m: list index out of range"
     ]
    }
   ],
   "source": [
    "lst = [1,2,3]\n",
    "print(lst[3])"
   ],
   "metadata": {
    "collapsed": false,
    "ExecuteTime": {
     "end_time": "2023-06-10T10:58:52.562887400Z",
     "start_time": "2023-06-10T10:58:52.519774300Z"
    }
   }
  },
  {
   "cell_type": "code",
   "execution_count": 7,
   "outputs": [
    {
     "ename": "TypeError",
     "evalue": "can't multiply sequence by non-int of type 'str'",
     "output_type": "error",
     "traceback": [
      "\u001B[1;31m---------------------------------------------------------------------------\u001B[0m",
      "\u001B[1;31mTypeError\u001B[0m                                 Traceback (most recent call last)",
      "Cell \u001B[1;32mIn[7], line 1\u001B[0m\n\u001B[1;32m----> 1\u001B[0m \u001B[38;5;124;43m'\u001B[39;49m\u001B[38;5;124;43m2\u001B[39;49m\u001B[38;5;124;43m'\u001B[39;49m\u001B[38;5;241;43m*\u001B[39;49m\u001B[38;5;124;43m'\u001B[39;49m\u001B[38;5;124;43m3\u001B[39;49m\u001B[38;5;124;43m'\u001B[39;49m\n",
      "\u001B[1;31mTypeError\u001B[0m: can't multiply sequence by non-int of type 'str'"
     ]
    }
   ],
   "source": [
    "'2'*'3'"
   ],
   "metadata": {
    "collapsed": false,
    "ExecuteTime": {
     "end_time": "2023-06-10T10:59:03.613341600Z",
     "start_time": "2023-06-10T10:59:03.563816200Z"
    }
   }
  },
  {
   "cell_type": "code",
   "execution_count": 8,
   "outputs": [
    {
     "ename": "ValueError",
     "evalue": "invalid literal for int() with base 10: '4.5'",
     "output_type": "error",
     "traceback": [
      "\u001B[1;31m---------------------------------------------------------------------------\u001B[0m",
      "\u001B[1;31mValueError\u001B[0m                                Traceback (most recent call last)",
      "Cell \u001B[1;32mIn[8], line 1\u001B[0m\n\u001B[1;32m----> 1\u001B[0m \u001B[38;5;28;43mint\u001B[39;49m\u001B[43m(\u001B[49m\u001B[38;5;124;43m'\u001B[39;49m\u001B[38;5;124;43m4.5\u001B[39;49m\u001B[38;5;124;43m'\u001B[39;49m\u001B[43m)\u001B[49m\n",
      "\u001B[1;31mValueError\u001B[0m: invalid literal for int() with base 10: '4.5'"
     ]
    }
   ],
   "source": [
    "int('4.5')"
   ],
   "metadata": {
    "collapsed": false,
    "ExecuteTime": {
     "end_time": "2023-06-10T10:59:12.868165300Z",
     "start_time": "2023-06-10T10:59:12.819496500Z"
    }
   }
  },
  {
   "cell_type": "code",
   "execution_count": 9,
   "outputs": [
    {
     "name": "stdout",
     "output_type": "stream",
     "text": [
      "'data/data.csv' does not exist.\n"
     ]
    }
   ],
   "source": [
    "filename = 'data/data.csv'\n",
    "\n",
    "try:\n",
    "    with open(filename) as infile:\n",
    "        data = infile.read()\n",
    "    x, *_, y = data.split(',')\n",
    "    print(x, y)\n",
    "except FileNotFoundError:\n",
    "    print(f\"'{filename}' does not exist.\")"
   ],
   "metadata": {
    "collapsed": false,
    "ExecuteTime": {
     "end_time": "2023-06-10T11:09:20.513456700Z",
     "start_time": "2023-06-10T11:09:20.508779200Z"
    }
   }
  },
  {
   "cell_type": "code",
   "execution_count": 10,
   "outputs": [],
   "source": [
    "from copy import copy, deepcopy\n",
    "\n",
    "nums = [1,2,3]\n",
    "data = {'a': 10, 'b' : nums}\n",
    "\n",
    "data1 = copy(data)\n",
    "data2 = deepcopy(data)\n",
    "\n",
    "nums.remove(2)\n",
    "data1['a'] += 2\n",
    "data2['b'].append(10)"
   ],
   "metadata": {
    "collapsed": false,
    "ExecuteTime": {
     "end_time": "2023-06-10T11:28:04.605548900Z",
     "start_time": "2023-06-10T11:28:04.589475900Z"
    }
   }
  },
  {
   "cell_type": "code",
   "execution_count": 11,
   "outputs": [
    {
     "data": {
      "text/plain": "{'a': 12, 'b': [1, 3]}"
     },
     "execution_count": 11,
     "metadata": {},
     "output_type": "execute_result"
    }
   ],
   "source": [
    "data1"
   ],
   "metadata": {
    "collapsed": false,
    "ExecuteTime": {
     "end_time": "2023-06-10T11:28:12.548512200Z",
     "start_time": "2023-06-10T11:28:12.502475300Z"
    }
   }
  },
  {
   "cell_type": "code",
   "execution_count": 12,
   "outputs": [
    {
     "data": {
      "text/plain": "{'a': 10, 'b': [1, 2, 3, 10]}"
     },
     "execution_count": 12,
     "metadata": {},
     "output_type": "execute_result"
    }
   ],
   "source": [
    "data2"
   ],
   "metadata": {
    "collapsed": false,
    "ExecuteTime": {
     "end_time": "2023-06-10T11:28:16.028433800Z",
     "start_time": "2023-06-10T11:28:16.021928300Z"
    }
   }
  },
  {
   "cell_type": "code",
   "execution_count": 14,
   "outputs": [
    {
     "data": {
      "text/plain": "{'a': 10, 'b': [1, 3]}"
     },
     "execution_count": 14,
     "metadata": {},
     "output_type": "execute_result"
    }
   ],
   "source": [
    "data"
   ],
   "metadata": {
    "collapsed": false,
    "ExecuteTime": {
     "end_time": "2023-06-10T11:29:01.075447700Z",
     "start_time": "2023-06-10T11:29:01.060807Z"
    }
   }
  },
  {
   "cell_type": "code",
   "execution_count": 15,
   "outputs": [
    {
     "data": {
      "text/plain": "[1, 3]"
     },
     "execution_count": 15,
     "metadata": {},
     "output_type": "execute_result"
    }
   ],
   "source": [
    "nums"
   ],
   "metadata": {
    "collapsed": false,
    "ExecuteTime": {
     "end_time": "2023-06-10T11:29:06.828252100Z",
     "start_time": "2023-06-10T11:29:06.813218700Z"
    }
   }
  },
  {
   "cell_type": "code",
   "execution_count": 16,
   "outputs": [
    {
     "name": "stdout",
     "output_type": "stream",
     "text": [
      "1 20\n"
     ]
    }
   ],
   "source": [
    "class A:\n",
    "    def __init__(self, x):\n",
    "        self.x = x\n",
    "\n",
    "    def one(self):\n",
    "        return self.x\n",
    "\n",
    "class B(A):\n",
    "    def __init__(self, x, y):\n",
    "        super().__init__(x)\n",
    "        self.y = y\n",
    "\n",
    "    def one(self):\n",
    "        return self.y\n",
    "\n",
    "if __name__ == '__main__':\n",
    "    obj1 = A(1)\n",
    "    obj2 = B(10, 20)\n",
    "\n",
    "    print(obj1.one(), obj2.one())"
   ],
   "metadata": {
    "collapsed": false,
    "ExecuteTime": {
     "end_time": "2023-06-10T11:34:38.704288600Z",
     "start_time": "2023-06-10T11:34:38.693739200Z"
    }
   }
  },
  {
   "cell_type": "code",
   "execution_count": 34,
   "outputs": [
    {
     "name": "stdout",
     "output_type": "stream",
     "text": [
      "yes\n",
      "yes\n",
      "perhaps\n",
      "perhaps\n",
      "yes\n",
      "yes\n",
      "yes\n"
     ]
    }
   ],
   "source": [
    "import random\n",
    "\n",
    "class RandomWords:\n",
    "    def __init__(self):\n",
    "        self.words = ['yes', 'no', 'perhaps']\n",
    "\n",
    "    def __iter__(self):\n",
    "        return self\n",
    "\n",
    "    def __call__(self):\n",
    "        return random.choice(self.words)    # 클래스를 호출했을 때 실행되는 메서드로, self.words에서 랜덤하게 단어를 선택하여 반환함\n",
    "\n",
    "if __name__ == '__main__':\n",
    "    random_word = RandomWords()\n",
    "    random_word_itr = iter(random_word, 'no')\n",
    "    for word in random_word_itr:\n",
    "        print(word)         # 'no'가 나올 때까지 랜덤해서 문자 print\n",
    "        # 'no'가 나오면 StopIteration 예외로 종료"
   ],
   "metadata": {
    "collapsed": false,
    "ExecuteTime": {
     "end_time": "2023-06-10T11:56:56.255903400Z",
     "start_time": "2023-06-10T11:56:56.240327900Z"
    }
   }
  },
  {
   "cell_type": "code",
   "execution_count": 35,
   "outputs": [
    {
     "data": {
      "text/plain": "True"
     },
     "execution_count": 35,
     "metadata": {},
     "output_type": "execute_result"
    }
   ],
   "source": [
    "callable(random_word)"
   ],
   "metadata": {
    "collapsed": false,
    "ExecuteTime": {
     "end_time": "2023-06-10T11:57:44.657820200Z",
     "start_time": "2023-06-10T11:57:44.609061200Z"
    }
   }
  },
  {
   "cell_type": "code",
   "execution_count": 37,
   "outputs": [
    {
     "name": "stdout",
     "output_type": "stream",
     "text": [
      "2 ['banana', 'melon']\n"
     ]
    }
   ],
   "source": [
    "# 8. 다음 프로그램의 실행 결과는 무엇인가?\n",
    "class Order:\n",
    "    def __init__(self, cart, customer):\n",
    "        self.cart = list(cart)\n",
    "        self.customer = customer\n",
    "\n",
    "    def __len__(self):\n",
    "        return len(self.cart)\n",
    "\n",
    "    def __add__(self, other):\n",
    "        new_cart = self.cart.copy()\n",
    "        new_cart.append(other)\n",
    "        return Order(new_cart, self.customer)\n",
    "\n",
    "    def __sub__(self, other):\n",
    "        new_cart = self.cart.copy()\n",
    "        if other in new_cart:\n",
    "            new_cart.remove(other)\n",
    "        return Order(new_cart, self.customer)\n",
    "\n",
    "if __name__ == '__main__':\n",
    "    order = Order(['banana', 'mango'], '홍길동')\n",
    "    order = order - 'mango'\n",
    "    order = order + 'melon'\n",
    "    print(len(order), order.cart)"
   ],
   "metadata": {
    "collapsed": false,
    "ExecuteTime": {
     "end_time": "2023-06-10T12:12:11.212239300Z",
     "start_time": "2023-06-10T12:12:11.161229600Z"
    }
   }
  },
  {
   "cell_type": "code",
   "execution_count": 39,
   "outputs": [],
   "source": [
    "#9. 다음과 프로그래밍 주어져 있을 떄 각 물음에 답하시오.\n",
    "def my_func1(arg, *args):\n",
    "    print(arg, args)\n",
    "\n",
    "def my_func2(*tosses, **scores):\n",
    "    print(tosses, end = ' ')\n",
    "    print(scores['p'])\n",
    "\n",
    "if __name__=='__main__':\n",
    "    data1 = [2,6,4]\n",
    "    data2 = {'m': 88, 'p':92, 's':90}"
   ],
   "metadata": {
    "collapsed": false,
    "ExecuteTime": {
     "end_time": "2023-06-10T12:18:26.940242500Z",
     "start_time": "2023-06-10T12:18:26.930727500Z"
    }
   }
  },
  {
   "cell_type": "code",
   "execution_count": 40,
   "outputs": [
    {
     "name": "stdout",
     "output_type": "stream",
     "text": [
      "2 (6, 4)\n"
     ]
    }
   ],
   "source": [
    "#(1) my_func1(*data)의 실행 결과는?\n",
    "my_func1(*data1)"
   ],
   "metadata": {
    "collapsed": false,
    "ExecuteTime": {
     "end_time": "2023-06-10T12:19:17.708238900Z",
     "start_time": "2023-06-10T12:19:17.660434400Z"
    }
   }
  },
  {
   "cell_type": "code",
   "execution_count": 41,
   "outputs": [
    {
     "name": "stdout",
     "output_type": "stream",
     "text": [
      "88 (92, 90)\n"
     ]
    }
   ],
   "source": [
    "#(2) my_func1(*data2.values())의 실행 결과는?\n",
    "my_func1(*data2.values())"
   ],
   "metadata": {
    "collapsed": false,
    "ExecuteTime": {
     "end_time": "2023-06-10T12:23:17.141078400Z",
     "start_time": "2023-06-10T12:23:17.128053400Z"
    }
   }
  },
  {
   "cell_type": "code",
   "execution_count": 42,
   "outputs": [
    {
     "name": "stdout",
     "output_type": "stream",
     "text": [
      "(2, 6, 4) 92\n"
     ]
    }
   ],
   "source": [
    "#(3) my_func2(*data1, **data2)의 실행 결과는?\n",
    "my_func2(*data1, **data2)"
   ],
   "metadata": {
    "collapsed": false,
    "ExecuteTime": {
     "end_time": "2023-06-10T12:23:58.173101300Z",
     "start_time": "2023-06-10T12:23:58.159085200Z"
    }
   }
  },
  {
   "cell_type": "code",
   "execution_count": 47,
   "outputs": [
    {
     "name": "stdout",
     "output_type": "stream",
     "text": [
      "반지름: 3.00 --> 면적: 28.27\n",
      "반지름: 1.00 --> 면적: 3.14\n"
     ]
    }
   ],
   "source": [
    "#10. 다음 프로그램의 출력 결과는 무엇인가?\n",
    "import math\n",
    "\n",
    "class Circle:\n",
    "    def __init__(self, radius):\n",
    "        self.__radius = radius\n",
    "\n",
    "    @property\n",
    "    def radius(self):\n",
    "        return self.__radius\n",
    "\n",
    "    @property\n",
    "    def area(self):\n",
    "        return math.pi*math.pow(self.__radius, 2)\n",
    "\n",
    "    def __add__(self, other):\n",
    "        return Circle(self.__radius + other.radius)\n",
    "\n",
    "    def __sub__(self, other):\n",
    "        r = self.__radius - other.radius\n",
    "        if r<=0:\n",
    "            return None\n",
    "        else:\n",
    "            return Circle(r)\n",
    "\n",
    "    def __lt__(self, other):\n",
    "        return self.__radius < other.radius\n",
    "\n",
    "    def __ge__(self, other):\n",
    "        return self.__radius > other.radius\n",
    "\n",
    "    def __str__(self):\n",
    "        return f'반지름: {self.__radius:.2f}'\n",
    "\n",
    "if __name__=='__main__':\n",
    "    circles = [Circle(1), Circle(2)]\n",
    "    circles_as = [circles[0]+circles[1]]\n",
    "\n",
    "    if circles[0] >= circles[1]:\n",
    "        circles_as.append(circles[0] - circles[1])\n",
    "    elif circles[0] < circles[1]:\n",
    "        circles_as.append(circles[1] - circles[0])\n",
    "\n",
    "    for circle in circles_as:\n",
    "        print(f'{circle} --> 면적: {circle.area:.2f}')"
   ],
   "metadata": {
    "collapsed": false,
    "ExecuteTime": {
     "end_time": "2023-06-10T14:10:06.500430900Z",
     "start_time": "2023-06-10T14:10:06.492908100Z"
    }
   }
  },
  {
   "cell_type": "code",
   "execution_count": 51,
   "outputs": [
    {
     "name": "stdout",
     "output_type": "stream",
     "text": [
      "4 3 2 1 "
     ]
    }
   ],
   "source": [
    "# 12. 다음 프로그램의 출력 결과는 무엇인가?\n",
    "class Reverse_iter:\n",
    "    def __init__(self, lst):\n",
    "        self.lst = lst\n",
    "\n",
    "    def __iter__(self):\n",
    "        return self\n",
    "\n",
    "    def __next__(self):\n",
    "        if len(self.lst)>0:\n",
    "            return self.lst.pop()\n",
    "        else:\n",
    "            raise StopIteration\n",
    "\n",
    "if __name__=='__main__':\n",
    "    my_data = Reverse_iter([1,2,3,4])\n",
    "    for itm in my_data:\n",
    "        print(itm, end = ' ')"
   ],
   "metadata": {
    "collapsed": false,
    "ExecuteTime": {
     "end_time": "2023-06-10T14:47:21.862640100Z",
     "start_time": "2023-06-10T14:47:21.820631300Z"
    }
   }
  },
  {
   "cell_type": "code",
   "execution_count": 52,
   "outputs": [],
   "source": [
    "#13.\n",
    "def calculate_stat(data):\n",
    "    # data: 표본값을 저장한 리스트 매개변수\n",
    "\n",
    "    sample_mean = sum(data)/len(data)       # 샘플 평균\n",
    "\n",
    "    #(X1-표본평균)^2 값을 생성하는 generator\n",
    "    sqr_gen = ((x - sample_mean) ** 2 for x in data)\n",
    "\n",
    "    sum_of_square = 0\n",
    "    for itm in sqr_gen:\n",
    "        sum_of_square += itm\n",
    "        yield itm   # 여기부분 제너레이터고 yield 활용해서 완성해줘\n",
    "\n",
    "    sample_var = sum_of_square/(len(data)-1)\n",
    "    return sample_mean, sample_var\n"
   ],
   "metadata": {
    "collapsed": false,
    "ExecuteTime": {
     "end_time": "2023-06-10T15:25:49.445459500Z",
     "start_time": "2023-06-10T15:25:49.419423Z"
    }
   }
  },
  {
   "cell_type": "code",
   "execution_count": 53,
   "outputs": [
    {
     "name": "stdout",
     "output_type": "stream",
     "text": [
      "0 1 1 2 3 5 8 13 21 34 "
     ]
    }
   ],
   "source": [
    "#14. 다음은 피보나치 수열에 대한 Fibonacci 클래스이다. series()는 피보나치 수열의 항을 생성하는 generator이다. 피보나치 수열 10개 항을 출력하는 프로그램을 완성하시오.\n",
    "class Fibonacci:\n",
    "    # 피보나치 수열의 2개 초항에 대한 초기화\n",
    "    def __init__(self):\n",
    "        self.a = 0\n",
    "        self.b = 1\n",
    "\n",
    "    # 피보나치 수열 항을 생성하는 generator 정의\n",
    "    def series(self):\n",
    "        while True:\n",
    "            yield self.a    # 여기의 코드를 완성해야 함\n",
    "            self.a, self.b = self.b, self.a+self.b\n",
    "\n",
    "if __name__ == '__main__':\n",
    "    my_fib = Fibonacci()\n",
    "\n",
    "    # Fibonacce 객체의 series 메쏘드 호출 통해 generator획득\n",
    "    my_fgen = my_fib.series()   ### 여기도 코드 완성해야 함\n",
    "\n",
    "    for n in range(10):\n",
    "        print(next(my_fgen), end = ' ')    # 여기도 print 함수 코드 완성해야 함"
   ],
   "metadata": {
    "collapsed": false,
    "ExecuteTime": {
     "end_time": "2023-06-10T15:32:07.922017200Z",
     "start_time": "2023-06-10T15:32:07.852910800Z"
    }
   }
  },
  {
   "cell_type": "code",
   "execution_count": 54,
   "outputs": [
    {
     "name": "stdout",
     "output_type": "stream",
     "text": [
      "n o h t y p "
     ]
    }
   ],
   "source": [
    "# 11. 다음 프로그램의 출력 결과는 무엇인가?\n",
    "def rev_str(my_str):\n",
    "    length = len(my_str)\n",
    "    for n in range(length-1, -1, -1):\n",
    "        yield my_str[n]\n",
    "\n",
    "if __name__ == '__main__':\n",
    "    for ch in rev_str('python'):\n",
    "        print(ch, end = ' ')"
   ],
   "metadata": {
    "collapsed": false,
    "ExecuteTime": {
     "end_time": "2023-06-10T15:35:06.863996600Z",
     "start_time": "2023-06-10T15:35:06.836475600Z"
    }
   }
  },
  {
   "cell_type": "code",
   "execution_count": null,
   "outputs": [],
   "source": [],
   "metadata": {
    "collapsed": false
   }
  }
 ],
 "metadata": {
  "kernelspec": {
   "display_name": "Python 3",
   "language": "python",
   "name": "python3"
  },
  "language_info": {
   "codemirror_mode": {
    "name": "ipython",
    "version": 2
   },
   "file_extension": ".py",
   "mimetype": "text/x-python",
   "name": "python",
   "nbconvert_exporter": "python",
   "pygments_lexer": "ipython2",
   "version": "2.7.6"
  }
 },
 "nbformat": 4,
 "nbformat_minor": 0
}
